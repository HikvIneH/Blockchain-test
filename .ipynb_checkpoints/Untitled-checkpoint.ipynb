{
 "cells": [
  {
   "cell_type": "code",
   "execution_count": 2,
   "metadata": {},
   "outputs": [],
   "source": [
    "import hashlib"
   ]
  },
  {
   "cell_type": "code",
   "execution_count": 8,
   "metadata": {},
   "outputs": [
    {
     "data": {
      "text/plain": [
       "'644bcc7e564373040999aac89e7622f3ca71fba1d972fd94a31c3bfbf24e3938'"
      ]
     },
     "execution_count": 8,
     "metadata": {},
     "output_type": "execute_result"
    }
   ],
   "source": [
    "m = hashlib.sha3_256()\n",
    "m.update(b'hello world')\n",
    "m.digest()\n",
    "m.hexdigest()"
   ]
  },
  {
   "cell_type": "code",
   "execution_count": 13,
   "metadata": {},
   "outputs": [
    {
     "data": {
      "text/plain": [
       "'f561f9c91982f8bc69756ddef52a93dcdd23431322888de2b7d7532f116915ba'"
      ]
     },
     "execution_count": 13,
     "metadata": {},
     "output_type": "execute_result"
    }
   ],
   "source": [
    "n = hashlib.sha3_256()\n",
    "n.update(b'hello world hello world hello world')\n",
    "n.digest()\n",
    "n.hexdigest()"
   ]
  },
  {
   "cell_type": "code",
   "execution_count": 14,
   "metadata": {},
   "outputs": [
    {
     "name": "stdout",
     "output_type": "stream",
     "text": [
      "f561f9c91982f8bc69756ddef52a93dcdd23431322888de2b7d7532f116915ba\n",
      "f561f9c91982f8bc69756ddef52a93dcdd23431322888de2b7d7532f116915ba\n"
     ]
    }
   ],
   "source": [
    "print(m.hexdigest())\n",
    "print(n.hexdigest())"
   ]
  },
  {
   "cell_type": "code",
   "execution_count": 20,
   "metadata": {},
   "outputs": [
    {
     "data": {
      "text/plain": [
       "'a35c9480fdadd356cd96c98063e59579d50ac13276b74369ae9165e3'"
      ]
     },
     "execution_count": 20,
     "metadata": {},
     "output_type": "execute_result"
    }
   ],
   "source": [
    "k = hashlib.sha3_224()\n",
    "k.update(b'hello world hello world hello world')\n",
    "k.digest()\n",
    "k.hexdigest()"
   ]
  },
  {
   "cell_type": "code",
   "execution_count": 22,
   "metadata": {},
   "outputs": [],
   "source": [
    "book = b'long book long book bong book long book long book long book long book long book long book long book long book long book long book long book long book'\n",
    "book2 = b'long book long book long book long book long book long book long book long book long book long book long book long book long book long book long book'\n"
   ]
  },
  {
   "cell_type": "code",
   "execution_count": 24,
   "metadata": {},
   "outputs": [
    {
     "data": {
      "text/plain": [
       "'a1f47a6a62ec437650ac4c9ca7048daff02ee117d5d4a2ac0ba8022b'"
      ]
     },
     "execution_count": 24,
     "metadata": {},
     "output_type": "execute_result"
    }
   ],
   "source": [
    "k = hashlib.sha3_224()\n",
    "k.update(book)\n",
    "k.digest()\n",
    "k.hexdigest()"
   ]
  },
  {
   "cell_type": "code",
   "execution_count": 27,
   "metadata": {},
   "outputs": [
    {
     "data": {
      "text/plain": [
       "'4b06fd7db353d1d528bf0baf20c6654318eb6d6f001d7c3f4db7c14b'"
      ]
     },
     "execution_count": 27,
     "metadata": {},
     "output_type": "execute_result"
    }
   ],
   "source": [
    "l = hashlib.sha3_224()\n",
    "l.update(book2)\n",
    "l.digest()\n",
    "l.hexdigest()"
   ]
  },
  {
   "cell_type": "code",
   "execution_count": 37,
   "metadata": {},
   "outputs": [],
   "source": [
    "block = {\n",
    "    'transactions' : [\n",
    "        {\n",
    "            'from' : 'A',\n",
    "            'to' : 'B',\n",
    "            'amount' : 10\n",
    "        },\n",
    "        {\n",
    "            'from' : 'B',\n",
    "            'to' : 'C',\n",
    "            'amount' : 10\n",
    "        },\n",
    "        {\n",
    "            'from' : 'C',\n",
    "            'to' : 'D',\n",
    "            'amount' : 10,\n",
    "            'message' : 'thankies'\n",
    "        },\n",
    "    ]\n",
    "}"
   ]
  },
  {
   "cell_type": "code",
   "execution_count": 30,
   "metadata": {},
   "outputs": [
    {
     "data": {
      "text/plain": [
       "{'transactions': [{'from': 'A', 'to': 'B', 'amount': 10},\n",
       "  {'from': 'B', 'to': 'C', 'amount': 10},\n",
       "  {'from': 'C', 'to': 'D', 'amount': 10, 'message': 'thankies'}]}"
      ]
     },
     "execution_count": 30,
     "metadata": {},
     "output_type": "execute_result"
    }
   ],
   "source": [
    "block"
   ]
  },
  {
   "cell_type": "code",
   "execution_count": 31,
   "metadata": {},
   "outputs": [],
   "source": [
    "import pickle"
   ]
  },
  {
   "cell_type": "code",
   "execution_count": 33,
   "metadata": {},
   "outputs": [
    {
     "data": {
      "text/plain": [
       "b'\\x80\\x03}q\\x00X\\x0c\\x00\\x00\\x00transactionsq\\x01]q\\x02(}q\\x03(X\\x04\\x00\\x00\\x00fromq\\x04X\\x01\\x00\\x00\\x00Aq\\x05X\\x02\\x00\\x00\\x00toq\\x06X\\x01\\x00\\x00\\x00Bq\\x07X\\x06\\x00\\x00\\x00amountq\\x08K\\nu}q\\t(h\\x04h\\x07h\\x06X\\x01\\x00\\x00\\x00Cq\\nh\\x08K\\nu}q\\x0b(h\\x04h\\nh\\x06X\\x01\\x00\\x00\\x00Dq\\x0ch\\x08K\\nX\\x07\\x00\\x00\\x00messageq\\rX\\x08\\x00\\x00\\x00thankiesq\\x0eues.'"
      ]
     },
     "execution_count": 33,
     "metadata": {},
     "output_type": "execute_result"
    }
   ],
   "source": [
    "pickle.dumps(block)"
   ]
  },
  {
   "cell_type": "code",
   "execution_count": 35,
   "metadata": {},
   "outputs": [
    {
     "data": {
      "text/plain": [
       "'8d5d8c9f0f8acb0a237658717399651c146914d0be0d19dabbeb98f9151dbcd0'"
      ]
     },
     "execution_count": 35,
     "metadata": {},
     "output_type": "execute_result"
    }
   ],
   "source": [
    "m = hashlib.sha3_256()\n",
    "m.update(pickle.dumps(block))\n",
    "m.digest()\n",
    "m.hexdigest()"
   ]
  },
  {
   "cell_type": "code",
   "execution_count": 39,
   "metadata": {},
   "outputs": [],
   "source": [
    "block2 = {\n",
    "    'transactions' : [\n",
    "        {\n",
    "            'from' : 'A',\n",
    "            'to' : 'B',\n",
    "            'amount' : 10\n",
    "        },\n",
    "        {\n",
    "            'from' : 'B',\n",
    "            'to' : 'C',\n",
    "            'amount' : 1000000000\n",
    "        },\n",
    "        {\n",
    "            'from' : 'C',\n",
    "            'to' : 'D',\n",
    "            'amount' : 10,\n",
    "            'message' : 'thankies'\n",
    "        },\n",
    "    ]\n",
    "}"
   ]
  },
  {
   "cell_type": "code",
   "execution_count": 41,
   "metadata": {},
   "outputs": [
    {
     "data": {
      "text/plain": [
       "'b1a76aa2377c21edbdc9dd3a2f5c6d82b2b01553444468324589d28a7b63cd88'"
      ]
     },
     "execution_count": 41,
     "metadata": {},
     "output_type": "execute_result"
    }
   ],
   "source": [
    "n = hashlib.sha3_256()\n",
    "n.update(pickle.dumps(block2))\n",
    "n.digest()\n",
    "n.hexdigest()"
   ]
  },
  {
   "cell_type": "code",
   "execution_count": 42,
   "metadata": {},
   "outputs": [
    {
     "name": "stdout",
     "output_type": "stream",
     "text": [
      "8d5d8c9f0f8acb0a237658717399651c146914d0be0d19dabbeb98f9151dbcd0\n",
      "8d5d8c9f0f8acb0a237658717399651c146914d0be0d19dabbeb98f9151dbcd0\n",
      "8d5d8c9f0f8acb0a237658717399651c146914d0be0d19dabbeb98f9151dbcd0\n",
      "8d5d8c9f0f8acb0a237658717399651c146914d0be0d19dabbeb98f9151dbcd0\n",
      "b1a76aa2377c21edbdc9dd3a2f5c6d82b2b01553444468324589d28a7b63cd88\n"
     ]
    }
   ],
   "source": [
    "print(m.hexdigest())\n",
    "print(m.hexdigest())\n",
    "print(m.hexdigest())\n",
    "print(m.hexdigest())\n",
    "print(n.hexdigest())\n",
    "#Cryptocurrency"
   ]
  },
  {
   "cell_type": "code",
   "execution_count": 44,
   "metadata": {},
   "outputs": [],
   "source": [
    "topBlock = {\n",
    "    'transactions' : [\n",
    "        {\n",
    "            'from' : 'A',\n",
    "            'to' : 'B',\n",
    "            'amount' : 10\n",
    "        },\n",
    "        {\n",
    "            'from' : 'B',\n",
    "            'to' : 'C',\n",
    "            'amount' : 10\n",
    "        },\n",
    "        {\n",
    "            'from' : 'C',\n",
    "            'to' : 'D',\n",
    "            'amount' : 10,\n",
    "            'message' : 'thankies'\n",
    "        },\n",
    "    ],\n",
    "    'lastBlock' : m.hexdigest(),\n",
    "    'nonce' : 0 \n",
    "}"
   ]
  },
  {
   "cell_type": "code",
   "execution_count": 46,
   "metadata": {},
   "outputs": [
    {
     "data": {
      "text/plain": [
       "{'transactions': [{'from': 'A', 'to': 'B', 'amount': 10},\n",
       "  {'from': 'B', 'to': 'C', 'amount': 10},\n",
       "  {'from': 'C', 'to': 'D', 'amount': 10, 'message': 'thankies'}],\n",
       " 'lastBlock': '8d5d8c9f0f8acb0a237658717399651c146914d0be0d19dabbeb98f9151dbcd0',\n",
       " 'nonce': 0}"
      ]
     },
     "execution_count": 46,
     "metadata": {},
     "output_type": "execute_result"
    }
   ],
   "source": [
    "topBlock\n",
    "#mining"
   ]
  },
  {
   "cell_type": "code",
   "execution_count": 96,
   "metadata": {},
   "outputs": [
    {
     "data": {
      "text/plain": [
       "'d416da06ee9acbc4f736e26a27370be55add6b5bb587ff9cc7e361867975ed75'"
      ]
     },
     "execution_count": 96,
     "metadata": {},
     "output_type": "execute_result"
    }
   ],
   "source": [
    "j = hashlib.sha3_256()\n",
    "j.update(pickle.dumps(topBlock))\n",
    "j.digest()\n",
    "j.hexdigest()"
   ]
  },
  {
   "cell_type": "code",
   "execution_count": 97,
   "metadata": {},
   "outputs": [],
   "source": [
    "difficulty = 2\n",
    "difficulty_string = ''.join(['0' for x in range(difficulty)])"
   ]
  },
  {
   "cell_type": "code",
   "execution_count": 98,
   "metadata": {},
   "outputs": [
    {
     "name": "stdout",
     "output_type": "stream",
     "text": [
      "00\n"
     ]
    }
   ],
   "source": [
    "print(difficulty_string)"
   ]
  },
  {
   "cell_type": "code",
   "execution_count": 99,
   "metadata": {},
   "outputs": [
    {
     "name": "stdout",
     "output_type": "stream",
     "text": [
      "2 4f698566099a5fe3582d12c782cc0182bc47435a27283eb5997a63e35b56b134\n",
      "3 3cbc06d73336529a07b48bdf5c59de0b53d69e472e5b5a20aa37809e4a4b619c\n",
      "4 f68b6f29a0205000e29b4fa6174250d296e4f8eac4d8200022a48e0e68f9e4e9\n",
      "5 4180b81ed801e844c5e3420f73b98953b4b9253c721014863a09add84c677431\n",
      "6 98dcb1fa861796acd15666a08bf88feaf114dd5045193a65b93096d7ef6ae145\n",
      "7 e3472338c07627a2a9d20a274cd938a72bb182b0970ddc28b5b2eaf365213805\n",
      "8 c33dbc4d89bda72afd133eba700cb94f2492806f95284b6e81d103cfd569c714\n",
      "9 939ffa7d536672c2df6058e9fbde4e176deba5696a4425b6bd6ed1f0f963b416\n",
      "10 f912fe15859a323e81c5624828bbe23b1a63f591777ae07de3d3d6da7d5ddf08\n",
      "11 3bf4c3b887ebc2aef99f2be58c68263a268dc7ae0336cdb3acfbc79aa9c5f205\n",
      "12 6b20cfc504740903a34d14808482d9bc0886af6c87c171f9bb093927e14d7c66\n",
      "13 d6c5d65e4e9d585fba97266076c8108725acbe6b43b3f49b987bf0417167f68a\n",
      "14 26339dd21cbdd707e75740c1758c64072e1e77a8b1b5d7da767353df2a4dca3d\n",
      "15 8004c432805d282a73529bab1d914f39b6b990ac6b252ea44cd206d2a8884e85\n",
      "16 cb544be03106314205094e60683ae58483bfaa2a5f8a63dc30b203e4609a5e56\n",
      "17 abcf135adb10fd775cfc6e620e4e986c5b7252fc3a4bcd1a3e3bc3f22e258d5f\n",
      "18 86cbdffb2201aaf707764cb37af006ad7f7ab2d0c84ba1f2e19bdc590d4affa9\n",
      "19 73083270979068345c28c1ef78bf2f55ed9ef3a4289c561c791ea9946a81a2a0\n",
      "20 bc86bff2f118b59e73a6b3aa834b9e6a6889fef1ae80cbcb43026a62faffaea5\n",
      "21 26f4f2fa3abaa6108ccbd73470dee8bbddf9d5dffa430a733665ce1dc273b1a3\n",
      "22 3bbf1db6b7214515247f170474ae18007c190048145109b6ab78dbf8517824c0\n",
      "23 13fdb2301b064876133980771129b88c754ef776fc648468c3e32535cf4307f8\n",
      "24 1ad48c83b4af7521fe058e72a7f2b00a9eca382c1a494391d20e95ab63b7b884\n",
      "25 d87294cdb64297afb5410b96dda552d3b9886c445fbda4074293e5a1b7438285\n",
      "26 7ac10ad5b5869e5316980d94e7254a8d42e5c38d657b931126be0752475e8319\n",
      "27 6f7c8e4a3fa9b4f813e14c51baedb312ca112201131623f836f5bd011e75cf95\n",
      "28 10bede6a86057760e1e50230cc7fc3ffe45af00340241f87aa7828b9b6db72f0\n",
      "29 04f479d57988e4ced76746954eebdcc2da03de83f08b7ea87f5c0fee61fca901\n",
      "30 a930d3e0b00cf4821fb3381bccf2c3710d21a65adf111f3acee971fb33ebc25e\n",
      "31 af295b79a1882bd169417564b0b8c8ed7d3280362cfb15b416572ced3ce2c710\n",
      "32 6c56034787ca6cf9ce6a234222510522a741b65b83b4c9296980c0f20db7c49b\n",
      "33 fc7f69226135c7fdc5a8948f92c0cedc627cbbdce943f50369ca392b3fa5376c\n",
      "34 d5f775a41381474a5dd12e0c96a14798433f999acd00c6b01f58b6f416668b97\n",
      "35 1bfcc57e8058380210a33443bd28ad5dbcd4d36a36a433862cdebf49868d8ff2\n",
      "36 8eaff38c7ad56b72122b6e7790f5738806147e2d1813f89ba1bec8ca6c554c80\n",
      "37 0cdda28718b098e989337bc35ba99d285150151dea12395e4ade246c239608ed\n",
      "38 be81b9c5ca4187fc6c84a2476fe8f766212adb99a188458943af650cd5ad20c9\n",
      "39 5b4b540c1e200bfd578d3100c8796720cf4ecaffe68f4546a03fb08556d0d103\n",
      "40 3edfa0dbd277315d28534a2d5971a5c08861aed2d25ea47c2257696dba50419b\n",
      "41 39e5edd598186e07f890fcfb0e7507b672144fdad37186f43744601eb1320ce0\n",
      "42 ed4c4a01c4e8360c0f0e180c3147e9afcfefaaea46daca188232b4ee703d9e6a\n",
      "43 85830ab7781043a1d6d33d902b1abf300e05292063577a7334af64d7e63da9ed\n",
      "44 d53160ffdf7af14c4ace59bba671621d7dc84a0ffa2c4e4b640deef6943f83c9\n",
      "45 60699e9629fd66e520a6e1ef3f2cb57adaa256df933a6bdefe81f989826d761b\n",
      "46 34ef5eaff1be8270a6876d4143dc530c10439ebcca510db9d73ace573574363e\n",
      "47 a620e24f3c656695310f4592b55695ca6e7803f724f7cc72db45bd0141bd142a\n",
      "48 fc1aa2bc6a59ee194eb45dcd557c453ba4e3c4bd359808f9bef66c774ec80681\n",
      "49 ca47abdc3403ad94ee0f9782199885882eb8ce1c1c0926bf01b96f3493d9c9a9\n",
      "50 96dce95728b49772241c151036ccbc03d26b3c83872d9bb825d8df1af6ff9d0b\n",
      "51 e4e18e20bf229dcd806537101d4c37224f192659c7d0f454366b145a1371db26\n",
      "52 7f57e2deed604328f91a0701202270208423095d8a58add425188da3012db4e2\n",
      "53 5ab8c29eab0de855a65af0e930038a37887dd6a0d606b118af5881305afc4b34\n",
      "54 d31cd7411e8abc17b0e200bef03c85a948fb901f3643a22ff6bc5d782978777d\n",
      "55 57dbf53eb9345e03ac9da002c5f06ef23e980039c002a569978399d2cae3566e\n",
      "56 27de425e707087ca7cd0312d296ac5536f7c1cf9911122a576f4a43794cbb1d1\n",
      "57 fbf4ce0da9daa73c7114ab56aea44f4203f5a696ca391dd92bd932a7109c4fcd\n",
      "58 995fc5cdd6e810ab0cf095c2c287d1bb4bdbbeb58a22569682e1e32545069f2a\n",
      "59 9521d2e02867ca9038afd3646bf4ac954e89bf18ad67dcc462b2292daa0ec39f\n",
      "60 09a36d11ef4e7ad44d167fc2cae74724c93206d73aa5b23e25ea5d59ddf2d8e5\n",
      "61 4850984d6ca27039cd42e14a752585d69d0c8a2f21a69c76c838be1c9a021d57\n",
      "62 cb7506c2484ddeb7bbdf67d860e25f5df6986e663e468f5a670927a27d667d56\n",
      "63 c2fd242a2daee8b828e43105d72c2e56986b7aca2e089f2bf35f4f89bd536eea\n",
      "64 67a528daec089b92e71120795a220dc413b81275bcc66e3e17e10dbc8d6763af\n",
      "65 54b117a5c75bec17a1d5e4fa3ea80a53e64184b839423595094f6136b5a14f4a\n",
      "66 263368bd7d5664f8f8b3ceec7ad143f78f8568f44c6d38ec55b77a3abf78f1fb\n",
      "67 3b949fb33c7c5d190ad46f6c8d51200335c316984cc21b467874fb8260faf1c8\n",
      "68 8a5c2a7a7ee00b1c18ee4bd744e07ba1373cadffe34a4b439b58ba66ef6cf42d\n",
      "69 08453790de4df3865ad44263906f9f7d66a808a6671009f32d4606a4b99c3505\n",
      "70 54aa4a56db9de4a2e48420a7af4e984aced6bda56776d9d0a1ebe4f4083405ec\n",
      "71 82f5b59d8799e1c948c3b081e63f1ea1e100cbd344a74d158661a125bf11dfe3\n",
      "72 cc0f1ab12d75eee2fc0ad2729d61372aed16d3a7fbe9f9d7e82d9d71197c81bc\n",
      "73 473d12caf2c85837d28d42dda169cf08c5d36d11b90e7a83d21fa9b56912e152\n",
      "74 47439882ab0e7e5588259f381d6d034941395593be76d77d1eb6697200181679\n",
      "75 bf62c7d1dbc36594313aebda9d46417c7315633e54b07b76c3d4597645a1241e\n",
      "76 faebb77051fdc41bec4a155daf0ac5b88a68e8ef533ce43690ea2e51866c5189\n",
      "77 d39690fe7742f941eb5d08602117829b03412f8f8717436a8b7d1545d446bf59\n",
      "78 f1ff1b860d745de9aac4a486aff8db0dc0029ec4bb27d95355b91de3788de05b\n",
      "79 6432f40c402b1c67e487e54d5cb9ea9d3cc4c17d439db6e47e194b89ee8aac99\n",
      "80 0fc0f00d5a6f65988857db223b4ef3a5009dc71ab66f82ae8ef0ce83d8e6fbb9\n",
      "81 72ff7db344a6b408a3bcd91f6f8efe14d0c5ff3dc23d76b3f9f9b651672842df\n",
      "82 9b6adfabdfac368839ce5990cc3afa79aa40dd88ebc7d83d2de89ac4621ff4d1\n",
      "83 17c595e15fb939203c863317dc5d1f5ebe4a4e28c77ec55d25445a3030015c1b\n",
      "84 3adc1eb10bf7dc48ccd35ae296e74eb3665d1bd099dee0c8c918d049895773a0\n",
      "85 4ca45da7d10a3f9e34ae4c475aa5fd5adeebfbb89a133fb3acff387562b85720\n",
      "86 71684f8c55571ecfdf4cbf0286095ad66797dd13e22436f0e3251a99f737bf6c\n",
      "87 bdd170e825e3a45b88eaee1dea2502646b332f09a190bcc35bf5a32ed4cae974\n",
      "88 6ff23850af44ec654a4e0ef7267b02b8f1e0d54f8ca8385a7edceaa0d5c99721\n",
      "89 b18a4062b908f9ede05a99fdc0874e4957ebb4861277691fa09c7cfdc978b95b\n",
      "90 0c4244499bc48ef28ddc3897575eecff9db91b1395ac653da4b2cd50850628b1\n",
      "91 8b91c78c18f63c832142ef2982d5a8ba557e44c3dbf63337f8103da3f830805b\n",
      "92 809efc76ee737549d29c86a1f8d63c3f3fea210183042cebc7306ba092a02501\n",
      "93 201dd66a94f2c1a245ac0860f7e27eefd815a03893977a470fc46783b4308469\n",
      "94 e6b01645a08f484b0e103c1aae0c36a16ac3238c213c6354cac56f5ce9f65dc0\n",
      "95 38002f50d96655b8f88f58b058c7c03405dd5e08f6261172a6bcc7d58b39f38f\n",
      "96 b644b312cb2efe5805df579b1051cfcbfc1d0a51fbc67dd2bddfcfa4e88497f8\n",
      "97 ea558b7d84de496c8114c39ce00cc697366a9e31b2c456e6d8c0d6b707d058a5\n",
      "98 971b92db07b685dad91cee68dc031f8a4a4eeff0872ae1fb47ead45b1e5959f1\n",
      "99 e5b662a1d832581054707bcce98f67c6b9ef4b60cd0a40e3c3cfc86e628237a6\n",
      "100 40ed30aa7b47c4f1b6b77f181e4d4cff5ec6ffb1bb7c8a79489787a80de4791e\n",
      "101 b9728b7525c930c908d1d2128ee0ec54711be6c5ace22ec6f3b01452acc2533b\n",
      "102 7a358c1a3f73c191aea5811507077aab95d4c87757c72505950c09cd20cc405b\n",
      "103 603a9fe5e8c14c07582f8e673056c6d3429dd17cf88c37b6674acf410a4e58f0\n",
      "104 9e8e1a2c1ba6b4c829b8e848e90e92891d836be8e3dc53dc9526b2ca3d25ee66\n",
      "105 4c05746a630719cdde3bcc274fb5daa7dae28a9772f5197e373dcceb4c977640\n",
      "106 02b914771cb8457047b3e079b03eb015252a08816adc7c9f111461a3362ef6f9\n",
      "107 4ee2e8fa28c63ad1458cbed76400d654337432c4411f726c81ece1a05331df65\n",
      "108 12bf5da513b8eb9e64878b1ed91fee87fd4ecb3f5120e5cef9d5ed97b52c2ca4\n",
      "109 7719dc3e746a619ab6844fed7e114f6edf47a78e4bc1f4262742ca2103c77e24\n",
      "110 239e5b2d1e3be80599ff0b8688b94731481338a537c108004269b7c3899992ea\n",
      "111 ca102bbbfca333856f49de88f35c1d4db65551e88bf45fabdc1053df4f140bbf\n",
      "112 dccfc831bc70156e95f7f1a238beea05551e340b5622e81e45c5d5cb3c7a4047\n",
      "113 7c1349a289d324787c3bfa9da9b9dbbd263b7cdb2511e368d5cbe663ecaf6eed\n",
      "114 cc4d1e4b6a46dc22744585bd4db5409dd12b4ff8579b5eb5accafc96e668527e\n",
      "115 0414aec728440fb2b4e5b446a1ea4728c386f42af6a2151aa4d7f5f01568bea1\n",
      "116 2cac59b879b275b6f957a1345c69485ed96d7bf3b504273fee853a4c9b590a99\n",
      "117 887aaace531c953a24f1d9529f6ed4e1b817f8fffcc9237daf84ebda823808f0\n",
      "118 d639344238e86fd0c6ebd3d18fd16528e18ba2cfcd9b6106635b2194545937c2\n",
      "119 ff910abeab9b48ad94d0d9ab17e1db5ea473f3c7b2c7c5e5ac6d2cd7d480ba41\n",
      "120 0687cd70e0fa54fd119f6ffbbe0230323fa1eacd511d914a6f3e944f4c93cae2\n",
      "121 a2a945d01e61c7313c2457d7a1ec4602101651b14a5a4ab26622e15b43a7093d\n",
      "122 27097f5ff0ad45eacc9f7970f68b47eafc6c36c027fe09f94cea1eda2db1014f\n",
      "123 9769470e1e7a166d7643e420f257264d5e264b3f8e64dc2b81e799c10e3ec31a\n",
      "124 3564885af2f121e0b86d140a469f517981ac3172014d46fff1a0b397eac5cf6e\n",
      "125 8309fac666952cbbc60ff035e8609f7eab1725154c08dc92b436dc6f7d843307\n",
      "126 17547ff46711ff1f4bc28b371064e02cbd6f2c22722a2de344c19411eff5f06d\n",
      "127 b5ce24de2e92f61c12af7c9cd6631124f4e3bfdbef95b5b8897c04c9e4c59427\n",
      "128 80fba7656377690254d3cfb02208ab6f38e6885c43be356fed847454f709a130\n",
      "129 63e7b2663fb0740665589c89000d3b62f56064f5312c6483bcf81983a24ed92d\n",
      "130 efa0c5fb722f47da62ea952c4de1a604fded2188f66d884e3043d0e13eb4cb31\n",
      "131 1a44115b73f2688b48d0712c7c985d7aee51383b709ded6b7b6d1d42b4e97520\n",
      "132 fa3e22eda4fe3ddbf9c10b9c3e504dd2320636fbd2d5fcb8ba729d12682739cf\n",
      "133 24865a9e9f6585d13436664e97e35e2d234d516984558a501b30f0acb4c9b434\n",
      "134 e90a78b559faea20de182a9a624e7bb52777b98a454b18d55b653c9a53c8bf70\n",
      "135 bffe2ebbaf4140d4f4bc65a62eececda12eda34e36675e1ebc1d24a1ff4668ed\n",
      "136 dc061d3cac8682040d08769fa5ccaba6eff8f055c3982c67e178c36b48d00bba\n",
      "137 20af3565a694e3e55b4cdf1e6cac1c036cc5a80aad9cb45655da3cf7e0d2769c\n",
      "138 233f05d2d59d322e1c9fb58ce121394a8ab72ace8b3a868a21c713264818f70a\n",
      "139 766bc955380f878290cf4acb8cf989771a19799e35c140601a976cd7f654ae06\n",
      "140 527526c71b51785a1e50863d1cc4396b764d5aac794106ad3679fc40b54467af\n",
      "141 47a24973806429ed421575f028ec7c9480bb125e11ac2e9a575579c7341117b2\n",
      "142 0613a739f4e574b034f01994b179f3a09bfd827a17251789b0a0fa46dc419fa7\n",
      "143 2e93b5d081dc0beb9bd3b162d201c13b39ee93a1e56cc58429b948d0ba364f11\n",
      "144 7da2dab347554719c6f3da0b9e6a30db0a88d8a4a5f623b924bca2c9689156b5\n",
      "145 bdd5b7710f47eb139d2134f9b9ebd601b43b9861f9b8558758528ac95ada5a3b\n",
      "146 6d1b5633413d02fc889c38381f60f889702af55241ccb822cdc675520329908f\n",
      "147 adee7157218683aeca15aa25b01a30c2346347f08e49b2c10a14c885e4f2a127\n",
      "148 805bd3b1620e053a1a916fb8ef1dc2e63ae36a155b12c41302f0da12a387d435\n",
      "149 0f2566b1cea6f8894cbabd0d9c54dec26dfb62ae84a587651035598b7a28099d\n",
      "150 d5c1cfe2124ad019a443074148e54c33c941fcf5524beb6027628c42470cb09d\n",
      "151 a55f1325d415ae99313ec04bfc794f1a1246fd2e9e52592a7378f3fb7a5d9544\n",
      "152 915e6fe4473ea7ae233043b82ce8c7462777e92efe14a2b892befa50abe76fb7\n",
      "153 814cf0c622ed13954bad00ebbcc15c93134373dc24ad234d86c8780110660294\n",
      "154 24fcecdef493203a0d399292b990391a11768f537dbe7f59257f355a3731732f\n",
      "155 6c1b521669330aacc11ea0e0ef9027f87d62623c9079f3ff1e23f7039298bff4\n",
      "156 ddbfc8c15df7aa43c16a41801339ee460d67fab43d1dfa5350df5cfc68d79c8c\n",
      "157 aacc5bc0048b5dd4196d5d58ee59cf1bf21819c6df93656ba56d34e78a94f040\n",
      "158 07a11cbe527cd3e8943db29db2ff163d215bef976988f331e31090fef0e2cba2\n",
      "159 ca3684767dd7fda60687698e9102073fb425386f103c03dfd68191ab5b7a4b8a\n",
      "160 94aa7c9c11d42e1a14cad8a1b1919df117f36fd013ef6f6222dd45bc79bfcc91\n",
      "161 7475fdd298c9acd9c2a0da0c104e2c1058de965b71e75c5761f96c9294fc524a\n",
      "162 f92043e368535c372e2d2811292c2e43f5edc0114c167abfe6eda3bd0c20c4f0\n",
      "163 64036444a4158482bd6c4e95d1d801a4bccb9edaebd35c1d0cba2d4d352d8fdd\n",
      "164 1dbe44b4431196f9d12b57ef4301ad9e08dd503fe98e1f738fae186492dfe1ea\n",
      "165 7f613a96310ee06e4c0e430a8492b9e9919f9bcc6bd0555e90075915aec2207e\n",
      "166 56bdeeff5e380895c39d0c5bbe8178088f477fef7347c9759f079a2d458381a7\n",
      "167 f147aced185b5973f4f07a6805fc5b06932fa9b340434b684c84d77716bfb599\n",
      "168 4beb37651bcf3614d6529166c735d5ac886c84b6ff829f546318f09a3829c13c\n",
      "169 13cac21fb5de62ee17547e499e2f1331f2a4bb42a8f91d5df56c2ca9e41e76ca\n",
      "170 78f4142f0b890ca2d83a7e02e9abdd1d24bcbef19569b8559bc20e2344a537cf\n",
      "171 dda90bbc52c2b6ace3da550df432d8c05cad68772c587a0cf8ff42d8600567ca\n",
      "172 6e3345c5ba37186bbb22cdd88953d3b060f44a89b214e7f4115e3a36bea2911c\n",
      "173 d9a31665656542b9a2e0cf3413a1d84de38bbfdb3cd8ec67457a92ce12c85f8d\n",
      "174 b4839d83ef12e12235996bf4101d956f1376956916c68bec8c27707beedf5e79\n",
      "175 6a1b7647b7374ec7787339b45b2a435ee3b511660a4f7328d9c04a701f05bea5\n",
      "176 8df5cb5c52036898c6ced1868af875203d3de61ebae8aed7c11a90c6c0298ce7\n",
      "177 e9557d552b25e358ef258d8d19e0f25a0e09fc8ce99c5f6d7bd89a9af41ba35b\n",
      "178 4b2545cc609c55212d39309af48af0e05bad26522496a369a568630458eea9d4\n",
      "179 d82e5e8e599a695193c16ec952dcd69b754fd4d9c7570233a1df1563aef55812\n",
      "180 336d4de3c3acd07bcb66b0dab43991ecf23e0b497f223901fced2e8361f429b7\n",
      "181 fb007fdd3a64741bc2cf1152017edc85c5235f8d799bb15533c1e90620a3e92e\n",
      "182 a88c022c93ece2d031d8d9c729d758249d8546c73b6a50115a6acc5289385709\n",
      "183 fdbf8a69b435f3dccad64ea82abda91044b1cae89b40621f58655a396179b850\n",
      "184 952928bb5891e903d08c804a49d5d28be8547a0ae87731170c3be1440fa069f3\n",
      "185 faa52251341d39559503e9086d9ae39737ca9429e3aedab83cb268eb6831bae2\n",
      "186 d80289c2046eb4b717afdcbcb470e3464692b5f1ed7a4cbc15814b7ef9732abb\n",
      "187 eb4fc6adea96b8e138883d21bf5bbaa9a3f414ce6fb763ad50f3b57b1b6bdab1\n",
      "188 770d539d4332e4f368d6b897978e511a86a62d3d594d6d147d0634aff0d0bfd4\n",
      "189 256ae42cc7572aef0a06c00b68ddbe40aae2265212d2f866688ba2342b4cd57b\n",
      "190 64e5e37fafe50605029197c969b5f6d91dd59ced9c8f6b1d593f57360a4379e1\n",
      "191 b22c9f29b5e8129c618ad9ec9b8b3e8012242250881ca3c35840e017aad2a7ef\n",
      "192 521f5774b79b051216364260158b1d896c486a32dadf57c00cddba6f37876694\n",
      "193 6ded42b25337e1c7a96ed3beb36dfcc1fdb45bf36ff10069cd0f2b5dbc325bee\n",
      "194 020645fe50755b95e7a4d6bf7f2d5a520ae331862b0abe469ba701c9019b5b7c\n",
      "195 06053ef86b9989e58abaade0b4c253431099142f1370521b415abdf9b8786355\n",
      "196 2b5fcfaee8d5375b3a633c7c41cb7f1752ee2d276572c24056a256a096bd48fc\n",
      "197 5aaccfd922f14fa0b193383896556f57fb43d61b518516b18de83a67c41d35c4\n",
      "198 23e75af74528ffdf5005169f5c303322e05e6d54cc030760c92748e210025a49\n",
      "199 2835f72dd1aec72cc11384d373c332dcfd272fd58bc4717e4b410af65a1eaefb\n",
      "200 684fa35f2283a6e7c6388f4a919a8bb86f5ece82f2bbd0bd68d42155dc329219\n",
      "201 f83130256f6eb79f780517445d67c9a2479abab4d72b4b1cfa5a0a9d4c66aa31\n",
      "202 10ff573f04180d40855ff346b605bfad331c2daf23d1ea974444ac58384d8ae8\n",
      "203 5aa538df179c1288fbeb893a6cb011d14fde2c2f2cdafe8a00b8d27d536461ef\n",
      "204 d04f612c2c1728ecd2656e9bbc3b2102fc5f66aada4c2bda71f8a5f5acf1028e\n",
      "205 530e37c87d34adde0e5bddfb795a74ccff12a541b3296ce86817789a70597929\n",
      "206 e56de64f41e42f42b48124cdf511c09316e0782d9ba65f9aeae79942e01cdee6\n",
      "207 835cafba58250a89ebb81464d7b5b94d03077a4604a56e2692e0e589b7c1d281\n",
      "208 fb564edac8c0883aca45afb3a3c27439507e061090560142a0146feee415a955\n",
      "209 a3a023a468bbc28c366aeca3539bee03ac9794634690d3bf361b5097ae860270\n",
      "210 9b6de8e0655fe7680d80a072fcc340683dad4249762e56b3ad5b708e445fbdb4\n",
      "211 0c7d1cb616b06a221b4413088b168d6f667be925ec5ba6229418c8cc6cd0560f\n",
      "212 1eaff85bf654cc0efeb96218eba50ddbdfd9c1f7c4a09aed03d47a3ca30a2dc0\n",
      "213 8f03c6ad71f6d4fa7d56c65ad7d6d5d2258621ca60a2eca3fec9ca0e9547d940\n",
      "214 9879335c3e6f7d0d749aad3eb9ce25af298ff3c3fa96c9fb8ecf817fc3ce3534\n",
      "215 7132717890a6d37330ca77622f775bd2fa9a53618ad7c820bffaff6082803e5a\n",
      "216 565b3acf16b2da6093c900d25d4f21ef3405fb3bd5c40749f3ddc37bf30ce1e3\n",
      "217 f559ff6b539673398589e44a942bce016f3b5574f3d734b5baab5932d878e26c\n",
      "218 23459474e868caa0bea4aba017184b63665e152d13497454b13130d74e90136b\n",
      "219 6d6a1ffaa96e1572c48f09189f6c31c00093b7b464f8101206023bd1326a4f6d\n",
      "220 f6bbffe009cc745b16907fe99214f6b225e3499f1e3970dede8275ac4f793df9\n",
      "221 9e2c726c9d979e6e5f467ba577a99b7183619aaaf84469c02fb84dcc94d8d920\n",
      "222 186207f9a5a9eea1d963cc0b961de674df019accc8a4205c3805ff2406d3ce9c\n",
      "223 9691c1e6eb9047ac48458403f886b323c9570966046c1eec824a9dd4818b0bbc\n",
      "224 dd8dd7989744bc830871c4f916bed4a6b6c7b14f40312db968c9059a8e51e3e2\n",
      "225 19e9c81100af8e94835c8cc062492297f76d35d29e28327acebc53c796102425\n",
      "226 a118204b8fdc74c6828a80a791818a2e9b4a9a88f1fa42a091f34823350ff4b0\n",
      "227 a0d03b072ed131c358ff69ba383a9340b26598c44733aec08d5e082f6bab01c0\n",
      "228 4db14bfc715da41da2a23d224a26033ccf41134253dc8866a39dff24ff3cc3c7\n",
      "229 dde28950a3f79883fe53d857500aa8dbda5a8384f5a756269768fb5578a23e13\n",
      "230 47602365d6a8e0476ce56972898540a55417ae0797187a0395ff3cbdc32848f5\n",
      "231 f117f963afbda45b16a3faf7cdec2c53a6937bc328b8e522a89dbbef3718199f\n",
      "232 eb69e1ea06eed0afd5da8a46f15691fccb0352cc754bce655cdfecd9686f04c0\n",
      "233 795d3b5670d447b455c5d70e07b70a00de2f13da42dd306867a75e276e6a4f3e\n",
      "234 9cf7dcad1d672f52b7685b8ece3dc7910c987f470d40f200357ceea313b9db89\n",
      "235 fdcb6352f2e15d278b1d1830d7493a76fcf7a8e9a1b291269fd1e9a583877ce7\n",
      "236 43a1ab03b85271df87a11601800818158fbc7613a9acfc83757fe20190672e79\n",
      "237 14ffb3dc327ff50b5ccb1e709bf0e794cacf5719fb615f70bfd7375f1fa00954\n",
      "238 dfb38ebcacdb32b4e14941e2c13e6b17926fe12a7039eec0c2110732a22efbae\n",
      "239 52f4ee7bec099baee7df31d728141cc1afcef1d445b3a2d933ada3bf85acdcb1\n",
      "240 02f139cafd11225d6ef3350ddef0c02e52301e882aeea4d3fcc2aa13bd89aa15\n",
      "241 78bed6a3e85f25347fbc478c055ef35e8a2d77f30fbede950ec92d78e0995d4d\n",
      "242 3a9e607b9802ae24c3a5954387c672f6e1b91497a55c1996b33092a82fafe848\n",
      "243 dbacab4cb4a4358ba0b0e9e2b62130a20ee4129d9932ca0eb4de4322ebd8cd1b\n",
      "244 357f3500fcd279701e2e78c14eed150b148920b1b3bdbb3d77c6df5f0b14223e\n",
      "245 7f25f125cac97dbd530766a2270ae8935acf5d89268946f439d2ac636a5bc15b\n",
      "246 f31d0e15754b66212d48f277d31bbd31b5bc416c2331cfafe2d66fded598c3bc\n",
      "247 abf2645f7b7bb27cc67d0e6d267dfe72f68aae846359d97a8404d62cf381e662\n",
      "248 d77180eff24865f5b00338f2154f444b4896d7b88e61ecc22cbf632d9c3d16d5\n",
      "249 9d848a460d3c67fc4e98dd876668934b323ff208ab6872756972b71e24b36416\n",
      "250 20c3ffbbf5321e09ec83cc93ea852cf7f646888bec04cd6bc09a49c74f2451d6\n",
      "251 d2e22e1180d9bc7573e9a188c366979a88b74097b8d12a45f8469b1c168d554e\n",
      "252 f6cb3d414e922864acc3f82a57d512d8a25f0f41411ea8f41fa9824c9f47d4bb\n",
      "253 eb83b2b741d65085c72ed1e234aec3dfb87714894317b8faa25a7902c357b92e\n",
      "254 0e5d208a0ebd6bf76560904dad597255e5c27b46cc44a5e965bf0961544ee73e\n",
      "255 f2fd55d2f75f4a402a30e079a0761bc5ea94abf6c6a02952b8e92f81c9f74774\n",
      "256 6b00e037909afa107fc47ec07619838fa34e7500d0cb2d5ae2e12b0b92b747d1\n",
      "257 0f5526fca229280186e349b58dd40ed77ad5d64e4693a020f57d27f05215326f\n",
      "258 bc1b97b1b33dc8a6a5bfb051f96e1bbd853c2295a339cdbc5ea0c3476f83efd7\n",
      "259 4e743eae73af0333d9f973568989ac5608b7ee0fef0ebf193b3ddb74ed319f15\n",
      "260 4058742018b7bb7041e85afd3eff8366884db82873ad0446e55e55d577046693\n",
      "261 75f5276b050ac4d12673ed141f916869c094c46ab454e6b2c91146a1ce76a85e\n",
      "262 3d5366db0c278ab40fd9c37abd0b30019c0127dedab7b20ed95a270aa129b69a\n",
      "263 1bb8c7c25c2bde87ecff3d0b1de726a45ca6ea96ac01e3a991b480d223d7d3e1\n",
      "264 253712154963fa4e7386874460eb194cc650176db559333f79d1c125a0650037\n",
      "265 911283a7ab7e9aa02e66b3bdb25926bc8f96eb8f2e828dc228944f23b5e471a8\n",
      "266 dc195be99854116475bd69242e3b48e3b1dd2a0481c24b1525648ee3ebbea09b\n",
      "267 2bfc0d586c143ce4cf2cdb5ce51af4a44d7217c58fde47d8089b02a4e333ffff\n",
      "268 6a7807ab786b414539fe90887d7bd152d56813537ffe275ffa3494fcbeaa87be\n",
      "269 25592e4d0d27114f12249c9058cf45d5cf561398b9630e129d60fc74b10e0df8\n",
      "270 b9ffc75df6092acd8eeb1ead2d977601195d781585eb7c2384f876f15874a855\n",
      "271 b19090c1670c8eda0fd1a02ead7f30c2669c15a19cce60040facf7a239e5b134\n",
      "272 74ae2212f0feea009a01de7dc32704e066f89bdba5880ad40b399c2ca4fabc30\n",
      "273 24ec9cc889fbf7473355fefa4d9e8b8bb5c28cb33cd6b84d7f6291910104bb65\n",
      "274 88ccb2c9d3de5169eca634d6f2efc433b454dd9fdfd998f2700009126ea38312\n",
      "275 9b3c865509522289d08f9af21730b95a601783d58a8f40a511b9b29583359b54\n",
      "276 8d96645a77c3899bc0d1920f9481a048c28654d4a40f713818c44f717a7f973b\n",
      "277 35bcb124ad02befa3dd847c3c14577733823c6d784825be2841f848256bb5588\n",
      "278 757a76c5621da6f3d03d42ffd63f195b1474e06e9b54a172aebba71aac6222cc\n",
      "279 f9d0a4696b6500c172745b0b61b8a3a2ed21b0f35d8fecd845e32bc1492da556\n",
      "280 e37682249c735571f13a6e1400c235da5f483320e79b26847b23a85ab2bcc022\n",
      "281 1761a9743585e69d6d7f55ade228fcdfc16499a5bcaaeb889fdf257264fff3b5\n",
      "282 bfb71ee9fa83a49565f49fb6489437e58d37453a13fd18b6acc4b24f541907a3\n",
      "283 b50c8eaafc802aee1983bcff02764f35e5c6de47ecc4bf9c50c50934f76a54cb\n",
      "284 ebf4b10958d98d3929c22d9d77ec4603dbda6b0f4eabe6fc3acd1d974e55fd14\n",
      "285 4344824d72bfe8a36e358f81c834bcefe178ce771dc859a42c192703add97e12\n",
      "286 bdce599698c435fc5dc63ed57e8779813415807cb4bd1d5079b0eff96d23c5a5\n",
      "287 5ea98234dce4daf319318edfbc3cac3252500f46f3bbcd6f58ee6af1308ea722\n",
      "288 d4c0b8135a592cdbc779bf11cfbca6d5c2c9e83f3e31c1db54d83c196469f564\n",
      "289 4c628cfd09c2dbacac805f1e3adf62e6a80ceed9f45ed4dbff18cef1bc79531a\n",
      "290 4ebee5a45b87f343e496e7c274602cb49e64c660e996bed18973ddb4f8788efe\n",
      "291 44b1c34b0e6fff9967ff2adc86da20bfdde37a68b5265d55c5bba701dcb8afb1\n",
      "292 a53098235616583264799f8168342438ce4bbfe798728153fb3fab5f9a7edbfe\n",
      "293 a9b5920a3bf6d74fdfd95ff68d70a1ce71217474676c2b6fd64ec1fe2128013b\n",
      "294 b42c8b055afe7c92e2e3a85c2a303c3c4f06faf94b406c47338c87fbf45de16e\n",
      "295 5b8fabff1b405fd84a53be6a3ab01e3e154fc6cd83907ed1ceacb829ef2379f2\n",
      "296 d92f9cf3396a21ea96dbb260fe31183a3c734e7530898c53c9c7d7fba1ae88c9\n",
      "297 aa4bf09e3700c29076de3ca8e8941d91148e06e85a12bc05fe5416222eb2c713\n",
      "298 eb54c246001366bf4a44b95f78227092bdacebecf94eb74d280f7dcf99e9c8b1\n",
      "299 89d95b637e6ec817cadf7a6fd693b0b7dec8772956dec149b8c478967e6c619d\n",
      "300 d5ee062c2a85f9ffbb3bd195ae8a977c64b873da0cc916079c7bbf0e3f8c65e8\n",
      "301 ddf5ffe177bda36b3adf5e41651d9eff875e971ae101cb5090dc2944f434e9d8\n",
      "302 dfc096bb46c6c78f9c041e1579d1eb465c1666f6443a7de0e4cf0e770cbc679b\n",
      "303 f29c79d2d9d2e0f6bd341f9c2584f3446871ba398b871b3c00399334c4a5b4c4\n",
      "304 81e2ffd796460cf3385b13753765ecb049dc5c26b73d27bbdb79d5f8de034f64\n",
      "305 676b21b3e5304be9bfc1c61ec56fa96ee259b09a5ba4db6d03cc98daa5de8f42\n",
      "306 a2a73c66d227e9d8473a86027fe67f77418b8d40574fe0864c53b076d99dfc06\n",
      "307 39b500b2f36ecb0fc1dc61729b13fd5da0178b320cf7b3edac2814cb5fad3fa7\n",
      "308 5cf4fcc9a9db5d2cf26901ba72891c708ef3b82d392a5febe71ffcd000af2fee\n",
      "309 e0e09aa78670bf07bff62362122443d1b0cd8e8f20e7bcccb1b421bf8dbb265e\n",
      "310 0b2d9bb4801ff5bf143699da4c9c34e4c24f741c7d83b648a0ddd77198983675\n",
      "311 a9c7b0c2f45e9930470bc4cac4783af3abc0b003229ddae6e58c2d456e9f6681\n",
      "312 926a7dc238c971bdd8ba551eef9848ea1a2d276000ac6c9083b544c64e18d5b1\n",
      "313 bd50a4c82c62d76c41366a8bee231e57e07f59045edd7dbcb0bf8d6b405061ab\n",
      "314 a6ba833a799d921497ee3bec9f3ef79acd55cde0f6ef91caa5280adf64fa3825\n",
      "315 76b439d96c21dafc18d57afccf18ebcf40e0747cb2016d7449e4ff5a5c449e27\n",
      "316 b9254643b91f98dfc2320e7a1b2a02acaff9b88db18761ebc1bb300aff0e603c\n",
      "317 03584ac523ba24f4dc640499e4333be55acae02803880028106f39b671954beb\n",
      "318 1554b97c96d524823cb30e8133e24e8eb53525424d670f2c4adcb82bf03e1708\n",
      "319 1a9b0b76e42ff7ac0689568dfa136768a9db25823e74bcc1bb622672cb243e36\n",
      "320 9f9a883e6cdeeb4c2f8ccefa8281a0a3747c03ca651c64e38e75a2aa0b223868\n",
      "321 60e2d8118713ae1aa3eb848bd28826326f9f886ad546ea7fd6aabf8481927244\n",
      "322 943838ecb3490f6ab6369994bcf5c719aa8a5130b688afaa3d141f1ff1c6265e\n",
      "323 af3a84be0456057eef75ae707c512a2f3a0788181b2070e2e6fcc3075d37849a\n",
      "324 927ddb1c3d5f84947c3044a5b5df8d8f99856ba63e3cec936b962dc17304e9a2\n",
      "325 0167954e624ea495aacbcc8a613f8f00a1ca3851666a2ed86c9e98de2129efea\n",
      "326 8035e18eab55afcec19f5798fbb4d10275fa4a30069f266a362561ab84781900\n",
      "327 df4fc332945c4c067abb4df18dbcd36933bb69d2c5d5d37555cd8af62833d529\n",
      "328 6218ac515278e7cfa53f74020fb246075f7979ad1430805e0668deb946168c0b\n",
      "329 a3b43322a1019a41b124a1d7f6a9f059cbd47ecbc4d9395c0dc11e899ec14aa8\n",
      "330 24ad084414c5380bbb1bb2634c317df47cea1c750acf0a050c89696d3fe941ec\n",
      "331 ed6a7ea995c995d52482af7fe1ce933f36dc034adf45ce86c435f47f60a76c1f\n",
      "332 ce608240a6cdf730f9ebeb80f8d0f0982db41dbfde3c5ab4567e33001922a111\n",
      "333 cd999d9863532e45116e1a008a20202fb0ccd347c90fea571db94d5041f7fb73\n",
      "334 b702a5709326947ce1481d245d9cb15475caf6aacd2ad9e18b8d4ace202d2492\n",
      "335 06befbb146935e64ae067079185fdfbfec65aaed5ea303bc10e18ba37d8e547a\n",
      "336 e3d0ab67199d14b3d745e11e2084aeadb6094fc549edbed953bb4af1b5596fb3\n",
      "337 e9f676ee207684f9fc18e1e21c35cf6556badbaab2b136c43a38a4111438f242\n",
      "338 27860873b5889272908467e99bba0d031c939ca1cb5a3aa72b5dfc0758a9c066\n",
      "339 7592182fbcdacf4312427d77fed6e0b3a2dca381dbbceeabed03bf3567a64405\n",
      "340 8afd2f4b072f91cff4d47d2ffdd14fd32b8ff61f286a17165a5eb234a6cccd70\n",
      "341 11f4b3e43a9cfe2777469589d6c5c4ba2a7fc686c9ea11fc9a0778bdc2f9e6ce\n",
      "342 1c8978abe32935e27698a6b654c6a9ae4143cd86fa5adfa1d5dbde97fa9cc10b\n",
      "343 ea1edc24aeb66cde388c7359e7ae35be3b02666b647bd4fdb4abd6f46c03565f\n",
      "344 09d7f6dfcfd58f1f42096a0f24d9f7a26f0941fe49bbc1dce7af05c60d6f55e3\n",
      "345 6b0f85a253e45d49157a7b6186e01b2ac4eb491fb25cffa412c6a57e0eac80f8\n",
      "346 acff98f4b08c6f1e1580375deadd40eec29bd95c2ecc7b3e7c8a450e5d334cfc\n",
      "347 ce48645b9a6f8636215e7d9ffcf4e6ed82fdbaccd896a6bca6257a0d4022e38a\n",
      "348 4b7e0f520de6437d247d38e372cb4083671d51baa8f2721a3bcfff708ce35dbb\n",
      "349 8b7fd5988c78c6919becbf4d43904860a0c511c8c5f96853973b6034b472dd61\n",
      "350 c7f32499eb0e47d03808b70945e691abd00fee386f343d241e0856d751bf1ab9\n",
      "351 cbc0135d6086ae90fae7e3ac144fdda0086839cb10c4594704df95aee60ed4aa\n",
      "352 b89498997c232be09d6b04d42d9d95016ff2a422019a29a9daf67724ba856a47\n",
      "353 a33cc06f891ba63875853b05bffa4fa871b522e14969bdca934718de5999dea1\n",
      "354 386d67ff1b5bc0ebf2f377eac87caa9c4f376bc1325def22dae01f237b057a38\n",
      "355 241b02b6e79c9d5978aff91ad8ad8f312d756258a9e8ec6b0b66491a7b0db91a\n",
      "356 59a95166ffb64af4a28379ad37b80708022fd7d40267e73073f3a2a20076b89b\n",
      "357 00e7f70317cdf9066f728d78332edaf37243874d2b2b5e1877de34b1e87be127\n"
     ]
    }
   ],
   "source": [
    "nonce = 1\n",
    "topBlock['nonce'] = 1\n",
    "while j.hexdigest()[:difficulty] != difficulty_string:\n",
    "    nonce += 1\n",
    "    topBlock['nonce'] = nonce\n",
    "    j.update(pickle.dumps(topBlock))\n",
    "    print(nonce, j.hexdigest())"
   ]
  },
  {
   "cell_type": "code",
   "execution_count": null,
   "metadata": {},
   "outputs": [],
   "source": []
  },
  {
   "cell_type": "code",
   "execution_count": null,
   "metadata": {},
   "outputs": [],
   "source": []
  },
  {
   "cell_type": "code",
   "execution_count": null,
   "metadata": {},
   "outputs": [],
   "source": []
  }
 ],
 "metadata": {
  "kernelspec": {
   "display_name": "Python 3",
   "language": "python",
   "name": "python3"
  },
  "language_info": {
   "codemirror_mode": {
    "name": "ipython",
    "version": 3
   },
   "file_extension": ".py",
   "mimetype": "text/x-python",
   "name": "python",
   "nbconvert_exporter": "python",
   "pygments_lexer": "ipython3",
   "version": "3.6.5"
  }
 },
 "nbformat": 4,
 "nbformat_minor": 2
}
